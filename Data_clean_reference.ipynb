{
 "cells": [
  {
   "cell_type": "code",
   "execution_count": 34,
   "id": "e1d4d431",
   "metadata": {},
   "outputs": [],
   "source": [
    "import csv\n",
    "import json\n",
    "import pandas as pd\n",
    "import matplotlib.pyplot as plt\n",
    "import numpy as np"
   ]
  },
  {
   "cell_type": "code",
   "execution_count": 35,
   "id": "1b9284b6",
   "metadata": {},
   "outputs": [],
   "source": [
    "#Reading in the CSV-files to be cleaned.\n",
    "\n",
    "Crime_type = pd.read_csv('Resources/Crime statistics/Crime_csv.csv')\n",
    "Crime_Domestic = pd.read_csv('Resources/Crime statistics/Domestic_data.csv')\n",
    "Crime_loc = pd.read_csv('Resources/Crime statistics/Data_Tables_Criminal_Incidents_csv_loc.csv')"
   ]
  },
  {
   "cell_type": "code",
   "execution_count": 36,
   "id": "a4969691",
   "metadata": {},
   "outputs": [],
   "source": [
    "\n",
    "\n",
    "Crime_Domestic_2020 = Crime_Domestic.loc[(Crime_Domestic['Year']==2021.0)]\n",
    "Crime_Domestic_2019 = Crime_Domestic.loc[(Crime_Domestic['Year']==2020.0)]\n",
    "Crime_Domestic_2019 = Crime_Domestic_2019.drop(columns=['Offence Division', 'Rate per 100,000 population', 'Year ending'])\n",
    "Crime_Domestic_2020 = Crime_Domestic_2020.drop(columns=['Offence Division', 'Rate per 100,000 population', 'Year ending'])\n"
   ]
  },
  {
   "cell_type": "code",
   "execution_count": 38,
   "id": "c870e459",
   "metadata": {},
   "outputs": [],
   "source": [
    "#Dropping the columns with years that we're not comparing.\n",
    "\n",
    "Cleaned_crime_type = Crime_type.drop(columns=['1993','1994','1995','1996','1997','1998','1999(a)','2000','2001','2002','2003','2004','2005','2006','2007(b)','2008(b)','2009(b)(c)(d)','2010(b)(e)','2011','2012','2013','2014','2015','2016','2017','2018(f)']).dropna()"
   ]
  },
  {
   "cell_type": "code",
   "execution_count": 39,
   "id": "8731037e",
   "metadata": {},
   "outputs": [
    {
     "data": {
      "text/html": [
       "<div>\n",
       "<style scoped>\n",
       "    .dataframe tbody tr th:only-of-type {\n",
       "        vertical-align: middle;\n",
       "    }\n",
       "\n",
       "    .dataframe tbody tr th {\n",
       "        vertical-align: top;\n",
       "    }\n",
       "\n",
       "    .dataframe thead th {\n",
       "        text-align: right;\n",
       "    }\n",
       "</style>\n",
       "<table border=\"1\" class=\"dataframe\">\n",
       "  <thead>\n",
       "    <tr style=\"text-align: right;\">\n",
       "      <th></th>\n",
       "      <th>Offence</th>\n",
       "      <th>2019(g)</th>\n",
       "      <th>2020</th>\n",
       "    </tr>\n",
       "  </thead>\n",
       "  <tbody>\n",
       "    <tr>\n",
       "      <th>1</th>\n",
       "      <td>Homicide and related offences(h)</td>\n",
       "      <td>415</td>\n",
       "      <td>396</td>\n",
       "    </tr>\n",
       "    <tr>\n",
       "      <th>2</th>\n",
       "      <td>Murder</td>\n",
       "      <td>225</td>\n",
       "      <td>221</td>\n",
       "    </tr>\n",
       "    <tr>\n",
       "      <th>3</th>\n",
       "      <td>Attempted murder</td>\n",
       "      <td>145</td>\n",
       "      <td>123</td>\n",
       "    </tr>\n",
       "    <tr>\n",
       "      <th>4</th>\n",
       "      <td>Manslaughter</td>\n",
       "      <td>43</td>\n",
       "      <td>48</td>\n",
       "    </tr>\n",
       "    <tr>\n",
       "      <th>6</th>\n",
       "      <td>Sexual assault(i)</td>\n",
       "      <td>26,860</td>\n",
       "      <td>27,505</td>\n",
       "    </tr>\n",
       "    <tr>\n",
       "      <th>8</th>\n",
       "      <td>Kidnapping/abduction(j)</td>\n",
       "      <td>526</td>\n",
       "      <td>402</td>\n",
       "    </tr>\n",
       "    <tr>\n",
       "      <th>10</th>\n",
       "      <td>Robbery</td>\n",
       "      <td>11,774</td>\n",
       "      <td>9,409</td>\n",
       "    </tr>\n",
       "    <tr>\n",
       "      <th>11</th>\n",
       "      <td>Armed robbery</td>\n",
       "      <td>5,793</td>\n",
       "      <td>4,746</td>\n",
       "    </tr>\n",
       "    <tr>\n",
       "      <th>12</th>\n",
       "      <td>Unarmed robbery</td>\n",
       "      <td>5,982</td>\n",
       "      <td>4,666</td>\n",
       "    </tr>\n",
       "    <tr>\n",
       "      <th>14</th>\n",
       "      <td>Blackmail/extortion</td>\n",
       "      <td>568</td>\n",
       "      <td>522</td>\n",
       "    </tr>\n",
       "    <tr>\n",
       "      <th>16</th>\n",
       "      <td>Unlawful entry with intent(k)(l)</td>\n",
       "      <td>173,347</td>\n",
       "      <td>133,870</td>\n",
       "    </tr>\n",
       "    <tr>\n",
       "      <th>17</th>\n",
       "      <td>Involving the taking of property(m)</td>\n",
       "      <td>112,548</td>\n",
       "      <td>83,358</td>\n",
       "    </tr>\n",
       "    <tr>\n",
       "      <th>18</th>\n",
       "      <td>Other</td>\n",
       "      <td>60,804</td>\n",
       "      <td>50,513</td>\n",
       "    </tr>\n",
       "    <tr>\n",
       "      <th>20</th>\n",
       "      <td>Motor vehicle theft</td>\n",
       "      <td>57,987</td>\n",
       "      <td>48,056</td>\n",
       "    </tr>\n",
       "    <tr>\n",
       "      <th>22</th>\n",
       "      <td>Other theft(n)</td>\n",
       "      <td>569,243</td>\n",
       "      <td>436,615</td>\n",
       "    </tr>\n",
       "    <tr>\n",
       "      <th>24</th>\n",
       "      <td>Homicide and related offences(h)</td>\n",
       "      <td>1.6</td>\n",
       "      <td>1.5</td>\n",
       "    </tr>\n",
       "    <tr>\n",
       "      <th>25</th>\n",
       "      <td>Murder</td>\n",
       "      <td>0.9</td>\n",
       "      <td>0.9</td>\n",
       "    </tr>\n",
       "    <tr>\n",
       "      <th>26</th>\n",
       "      <td>Attempted murder</td>\n",
       "      <td>0.6</td>\n",
       "      <td>0.5</td>\n",
       "    </tr>\n",
       "    <tr>\n",
       "      <th>27</th>\n",
       "      <td>Manslaughter</td>\n",
       "      <td>0.2</td>\n",
       "      <td>0.2</td>\n",
       "    </tr>\n",
       "    <tr>\n",
       "      <th>29</th>\n",
       "      <td>Sexual assault(i)</td>\n",
       "      <td>105.9</td>\n",
       "      <td>107.1</td>\n",
       "    </tr>\n",
       "    <tr>\n",
       "      <th>31</th>\n",
       "      <td>Kidnapping/abduction(j)</td>\n",
       "      <td>2.1</td>\n",
       "      <td>1.6</td>\n",
       "    </tr>\n",
       "  </tbody>\n",
       "</table>\n",
       "</div>"
      ],
      "text/plain": [
       "                                Offence  2019(g)     2020\n",
       "1      Homicide and related offences(h)      415      396\n",
       "2                                Murder      225      221\n",
       "3                      Attempted murder      145      123\n",
       "4                          Manslaughter       43       48\n",
       "6                     Sexual assault(i)   26,860   27,505\n",
       "8               Kidnapping/abduction(j)      526      402\n",
       "10                              Robbery   11,774    9,409\n",
       "11                        Armed robbery    5,793    4,746\n",
       "12                      Unarmed robbery    5,982    4,666\n",
       "14                  Blackmail/extortion      568      522\n",
       "16     Unlawful entry with intent(k)(l)  173,347  133,870\n",
       "17  Involving the taking of property(m)  112,548   83,358\n",
       "18                                Other   60,804   50,513\n",
       "20                  Motor vehicle theft   57,987   48,056\n",
       "22                       Other theft(n)  569,243  436,615\n",
       "24     Homicide and related offences(h)      1.6      1.5\n",
       "25                               Murder      0.9      0.9\n",
       "26                     Attempted murder      0.6      0.5\n",
       "27                         Manslaughter      0.2      0.2\n",
       "29                    Sexual assault(i)    105.9    107.1\n",
       "31              Kidnapping/abduction(j)      2.1      1.6"
      ]
     },
     "execution_count": 39,
     "metadata": {},
     "output_type": "execute_result"
    }
   ],
   "source": [
    "#Printing the first Dataframe\n",
    "Cleaned_crime_type"
   ]
  },
  {
   "cell_type": "code",
   "execution_count": null,
   "id": "d761c4c1",
   "metadata": {},
   "outputs": [],
   "source": [
    "\n",
    "#Dropping null values from the crime location dataframe.\n",
    "\n",
    "Crime_loc = Crime_loc.dropna()"
   ]
  },
  {
   "cell_type": "code",
   "execution_count": null,
   "id": "4e2e9ba2",
   "metadata": {},
   "outputs": [],
   "source": [
    "#Splitting the location dataframe into two frames each containing one of the years.\n",
    "\n",
    "Crime_2020 = Crime_loc.loc[(Crime_loc['Year']==2021.0)]\n",
    "\n",
    "Crime_2019 = Crime_loc.loc[(Crime_loc['Year']==2020.0)]"
   ]
  },
  {
   "cell_type": "code",
   "execution_count": null,
   "id": "07b84cb5",
   "metadata": {},
   "outputs": [],
   "source": [
    "\n",
    "#Dropping unnecessary data.\n",
    "\n",
    "Crime_2019 = Crime_2019.drop(columns=[\"Year ending\",\"Location Group\",'Offence Division',\"Offence Subgroup\"])\n",
    "\n",
    "Crime_2020 = Crime_2020.drop(columns=[\"Year ending\",\"Location Group\",'Offence Division',\"Offence Subgroup\"])"
   ]
  },
  {
   "cell_type": "code",
   "execution_count": null,
   "id": "58734474",
   "metadata": {},
   "outputs": [],
   "source": [
    "\n",
    "#Grouping the dataframe by Location and type of crime and creating a new dataframe from it summing the total amount of incidents\n",
    "#by type in each location type.\n",
    "\n",
    "Crime_2019_group = Crime_2019.groupby([\"Location Subdivision\",\"Offence Subdivision\"])\n",
    "\n",
    "Crime_2019_clean = Crime_2019_group[\"Incidents Recorded\"].sum().to_frame().reset_index()"
   ]
  },
  {
   "cell_type": "code",
   "execution_count": null,
   "id": "7ab1f6d9",
   "metadata": {},
   "outputs": [],
   "source": [
    "#Grouping the dataframe by Location and type of crime and creating a new dataframe from it summing the total amount of incidents\n",
    "#by type in each location type.\n",
    "Crime_2020_group = Crime_2020.groupby([\"Location Subdivision\",\"Offence Subdivision\"])\n",
    "Crime_2020_clean = Crime_2020_group[\"Incidents Recorded\"].sum().to_frame().reset_index()\n"
   ]
  },
  {
   "cell_type": "code",
   "execution_count": null,
   "id": "eae4433a",
   "metadata": {},
   "outputs": [],
   "source": [
    "Crime_2020_location=Crime_2020_clean['Location Subdivision'].value_counts().to_frame().rename(columns={Crime_2020_clean.columns[0]:'Count'})"
   ]
  },
  {
   "cell_type": "code",
   "execution_count": null,
   "id": "71985d1f",
   "metadata": {},
   "outputs": [],
   "source": [
    "#Creating a csv with the new data.\n",
    "Crime_2020_location.to_csv('resources/Crime_2020_by_location.csv')"
   ]
  },
  {
   "cell_type": "code",
   "execution_count": null,
   "id": "fdc25e1e",
   "metadata": {},
   "outputs": [],
   "source": [
    "new_csv=Crime_2020_location.merge(crime_2019_location,on=Crime_2020_location.index,how='outer',suffixes=('_2021', '_2020'))\n",
    "new_csv=new_csv.rename(columns={'key_0':'Location type'})\n"
   ]
  },
  {
   "cell_type": "code",
   "execution_count": null,
   "id": "83f802f8",
   "metadata": {},
   "outputs": [],
   "source": [
    "fig=plt.figure(figsize=(20,16))\n",
    "y1=new_csv.Count_2021\n",
    "y2=new_csv.Count_2020\n",
    "x=new_csv['Location type']\n",
    "x_axis= np.arange(len(x))\n",
    "\n",
    "plt.bar(x_axis-0.2,y1,color='purple',alpha=0.8)\n",
    "# plt.xticks(new_csv['Location type'],rotation=45)\n",
    "plt.bar(x_axis+0.2,y2,color='yellow',alpha=0.8)\n",
    "plt.xticks(x_axis, x,rotation=45)"
   ]
  },
  {
   "cell_type": "code",
   "execution_count": null,
   "id": "5c265258",
   "metadata": {},
   "outputs": [],
   "source": []
  },
  {
   "cell_type": "code",
   "execution_count": null,
   "id": "abb3f907",
   "metadata": {},
   "outputs": [],
   "source": []
  },
  {
   "cell_type": "code",
   "execution_count": null,
   "id": "b6bb8a11",
   "metadata": {},
   "outputs": [],
   "source": []
  },
  {
   "cell_type": "code",
   "execution_count": null,
   "id": "e2cc7985",
   "metadata": {},
   "outputs": [],
   "source": []
  }
 ],
 "metadata": {
  "kernelspec": {
   "display_name": "Python 3",
   "language": "python",
   "name": "python3"
  },
  "language_info": {
   "codemirror_mode": {
    "name": "ipython",
    "version": 3
   },
   "file_extension": ".py",
   "mimetype": "text/x-python",
   "name": "python",
   "nbconvert_exporter": "python",
   "pygments_lexer": "ipython3",
   "version": "3.8.8"
  }
 },
 "nbformat": 4,
 "nbformat_minor": 5
}
