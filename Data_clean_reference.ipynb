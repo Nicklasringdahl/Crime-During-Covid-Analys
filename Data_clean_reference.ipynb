{
 "cells": [
  {
   "cell_type": "code",
   "execution_count": 34,
   "id": "e1d4d431",
   "metadata": {},
   "outputs": [],
   "source": [
    "import csv\n",
    "import json\n",
    "import pandas as pd\n",
    "import matplotlib.pyplot as plt\n",
    "import numpy as np"
   ]
  },
  {
   "cell_type": "code",
   "execution_count": 35,
   "id": "1b9284b6",
   "metadata": {},
   "outputs": [],
   "source": [
    "#Reading in the CSV-files to be cleaned.\n",
    "\n",
    "Crime_type = pd.read_csv('Resources/Crime statistics/Crime_csv.csv')\n",
    "Crime_Domestic = pd.read_csv('Resources/Crime statistics/Domestic_data.csv')\n",
    "Crime_loc = pd.read_csv('Resources/Crime statistics/Data_Tables_Criminal_Incidents_csv_loc.csv')"
   ]
  },
  {
   "cell_type": "code",
   "execution_count": 36,
   "id": "b29d7874",
   "metadata": {},
   "outputs": [],
   "source": [
    "\n",
    "\n",
    "Crime_Domestic_2020 = Crime_Domestic.loc[(Crime_Domestic['Year']==2021.0)]\n",
    "Crime_Domestic_2019 = Crime_Domestic.loc[(Crime_Domestic['Year']==2020.0)]\n",
    "Crime_Domestic_2019 = Crime_Domestic_2019.drop(columns=['Offence Division', 'Rate per 100,000 population', 'Year ending'])\n",
    "Crime_Domestic_2020 = Crime_Domestic_2020.drop(columns=['Offence Division', 'Rate per 100,000 population', 'Year ending'])\n"
   ]
  },
  {
   "cell_type": "code",
   "execution_count": null,
   "id": "c870e459",
   "metadata": {},
   "outputs": [],
   "source": [
    "#Dropping the columns with years that we're not comparing.\n",
    "\n",
    "Cleaned_crime_type = Crime_type.drop(columns=['1993','1994','1995','1996','1997','1998','1999(a)','2000','2001','2002','2003','2004','2005','2006','2007(b)','2008(b)','2009(b)(c)(d)','2010(b)(e)','2011','2012','2013','2014','2015','2016','2017','2018(f)']).dropna()"
   ]
  },
  {
   "cell_type": "code",
   "execution_count": null,
   "id": "8731037e",
   "metadata": {},
   "outputs": [],
   "source": [
    "#Printing the first Dataframe\n",
    "Cleaned_crime_type"
   ]
  },
  {
   "cell_type": "code",
   "execution_count": null,
   "id": "d761c4c1",
   "metadata": {},
   "outputs": [],
   "source": [
    "\n",
    "#Dropping null values from the crime location dataframe.\n",
    "\n",
    "Crime_loc = Crime_loc.dropna()"
   ]
  },
  {
   "cell_type": "code",
   "execution_count": null,
   "id": "4e2e9ba2",
   "metadata": {},
   "outputs": [],
   "source": [
    "#Splitting the location dataframe into two frames each containing one of the years.\n",
    "\n",
    "Crime_2020 = Crime_loc.loc[(Crime_loc['Year']==2021.0)]\n",
    "\n",
    "Crime_2019 = Crime_loc.loc[(Crime_loc['Year']==2020.0)]"
   ]
  },
  {
   "cell_type": "code",
   "execution_count": null,
   "id": "07b84cb5",
   "metadata": {},
   "outputs": [],
   "source": [
    "\n",
    "#Dropping unnecessary data.\n",
    "\n",
    "Crime_2019 = Crime_2019.drop(columns=[\"Year ending\",\"Location Group\",'Offence Division',\"Offence Subgroup\"])\n",
    "\n",
    "Crime_2020 = Crime_2020.drop(columns=[\"Year ending\",\"Location Group\",'Offence Division',\"Offence Subgroup\"])"
   ]
  },
  {
   "cell_type": "code",
   "execution_count": null,
   "id": "58734474",
   "metadata": {},
   "outputs": [],
   "source": [
    "\n",
    "#Grouping the dataframe by Location and type of crime and creating a new dataframe from it summing the total amount of incidents\n",
    "#by type in each location type.\n",
    "\n",
    "Crime_2019_group = Crime_2019.groupby([\"Location Subdivision\",\"Offence Subdivision\"])\n",
    "\n",
    "Crime_2019_clean = Crime_2019_group[\"Incidents Recorded\"].sum().to_frame().reset_index()"
   ]
  },
  {
   "cell_type": "code",
   "execution_count": null,
   "id": "7ab1f6d9",
   "metadata": {},
   "outputs": [],
   "source": [
    "#Grouping the dataframe by Location and type of crime and creating a new dataframe from it summing the total amount of incidents\n",
    "#by type in each location type.\n",
    "Crime_2020_group = Crime_2020.groupby([\"Location Subdivision\",\"Offence Subdivision\"])\n",
    "Crime_2020_clean = Crime_2020_group[\"Incidents Recorded\"].sum().to_frame().reset_index()\n"
   ]
  },
  {
   "cell_type": "code",
   "execution_count": null,
   "id": "eae4433a",
   "metadata": {},
   "outputs": [],
   "source": [
    "Crime_2020_location=Crime_2020_clean['Location Subdivision'].value_counts().to_frame().rename(columns={Crime_2020_clean.columns[0]:'Count'})"
   ]
  },
  {
   "cell_type": "code",
   "execution_count": null,
   "id": "71985d1f",
   "metadata": {},
   "outputs": [],
   "source": [
    "#Creating a csv with the new data.\n",
    "Crime_2020_location.to_csv('resources/Crime_2020_by_location.csv')"
   ]
  },
  {
   "cell_type": "code",
   "execution_count": null,
   "id": "fdc25e1e",
   "metadata": {},
   "outputs": [],
   "source": [
    "new_csv=Crime_2020_location.merge(crime_2019_location,on=Crime_2020_location.index,how='outer',suffixes=('_2021', '_2020'))\n",
    "new_csv=new_csv.rename(columns={'key_0':'Location type'})\n"
   ]
  },
  {
   "cell_type": "code",
   "execution_count": null,
   "id": "83f802f8",
   "metadata": {},
   "outputs": [],
   "source": [
    "fig=plt.figure(figsize=(20,16))\n",
    "y1=new_csv.Count_2021\n",
    "y2=new_csv.Count_2020\n",
    "x=new_csv['Location type']\n",
    "x_axis= np.arange(len(x))\n",
    "\n",
    "plt.bar(x_axis-0.2,y1,color='purple',alpha=0.8)\n",
    "# plt.xticks(new_csv['Location type'],rotation=45)\n",
    "plt.bar(x_axis+0.2,y2,color='yellow',alpha=0.8)\n",
    "plt.xticks(x_axis, x,rotation=45)"
   ]
  },
  {
   "cell_type": "code",
   "execution_count": null,
   "id": "5c265258",
   "metadata": {},
   "outputs": [],
   "source": []
  },
  {
   "cell_type": "code",
   "execution_count": null,
   "id": "abb3f907",
   "metadata": {},
   "outputs": [],
   "source": []
  },
  {
   "cell_type": "code",
   "execution_count": null,
   "id": "b6bb8a11",
   "metadata": {},
   "outputs": [],
   "source": []
  },
  {
   "cell_type": "code",
   "execution_count": null,
   "id": "e2cc7985",
   "metadata": {},
   "outputs": [],
   "source": []
  }
 ],
 "metadata": {
  "kernelspec": {
   "display_name": "Python 3",
   "language": "python",
   "name": "python3"
  },
  "language_info": {
   "codemirror_mode": {
    "name": "ipython",
    "version": 3
   },
   "file_extension": ".py",
   "mimetype": "text/x-python",
   "name": "python",
   "nbconvert_exporter": "python",
   "pygments_lexer": "ipython3",
   "version": "3.8.8"
  }
 },
 "nbformat": 4,
 "nbformat_minor": 5
}
