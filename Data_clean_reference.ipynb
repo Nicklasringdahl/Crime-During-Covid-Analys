{
 "cells": [
  {
   "cell_type": "code",
   "execution_count": 2,
   "id": "e1d4d431",
   "metadata": {},
   "outputs": [],
   "source": [
    "import csv\n",
    "import json\n",
    "import pandas as pd\n",
    "import matplotlib.pyplot as plt\n",
    "import numpy as np"
   ]
  },
  {
   "cell_type": "code",
   "execution_count": 3,
   "id": "1b9284b6",
   "metadata": {},
   "outputs": [],
   "source": [
    "#Reading in the CSV-files to be cleaned.\n",
    "\n",
    "Crime_type = pd.read_csv('Resources/Crime statistics/Crime_csv.csv')\n",
    "Crime_type = pd.read_csv('Resources/Crime statistics/Domestic_data.csv')\n",
    "Crime_loc = pd.read_csv('Resources/Crime statistics/Data_Tables_Criminal_Incidents_csv_loc.csv')"
   ]
  },
  {
   "cell_type": "code",
   "execution_count": 6,
   "id": "c870e459",
   "metadata": {},
   "outputs": [
    {
     "ename": "KeyError",
     "evalue": "\"['1993' '1994' '1995' '1996' '1997' '1998' '1999(a)' '2000' '2001' '2002'\\n '2003' '2004' '2005' '2006' '2007(b)' '2008(b)' '2009(b)(c)(d)'\\n '2010(b)(e)' '2011' '2012' '2013' '2014' '2015' '2016' '2017' '2018(f)'] not found in axis\"",
     "output_type": "error",
     "traceback": [
      "\u001b[1;31m---------------------------------------------------------------------------\u001b[0m",
      "\u001b[1;31mKeyError\u001b[0m                                  Traceback (most recent call last)",
      "\u001b[1;32m<ipython-input-6-f112317a00a2>\u001b[0m in \u001b[0;36m<module>\u001b[1;34m\u001b[0m\n\u001b[0;32m      1\u001b[0m \u001b[1;31m#Dropping the columns with years that we're not comparing.\u001b[0m\u001b[1;33m\u001b[0m\u001b[1;33m\u001b[0m\u001b[1;33m\u001b[0m\u001b[0m\n\u001b[0;32m      2\u001b[0m \u001b[1;33m\u001b[0m\u001b[0m\n\u001b[1;32m----> 3\u001b[1;33m \u001b[0mCleaned_crime_type\u001b[0m \u001b[1;33m=\u001b[0m \u001b[0mCrime_type\u001b[0m\u001b[1;33m.\u001b[0m\u001b[0mdrop\u001b[0m\u001b[1;33m(\u001b[0m\u001b[0mcolumns\u001b[0m\u001b[1;33m=\u001b[0m\u001b[1;33m[\u001b[0m\u001b[1;34m'1993'\u001b[0m\u001b[1;33m,\u001b[0m\u001b[1;34m'1994'\u001b[0m\u001b[1;33m,\u001b[0m\u001b[1;34m'1995'\u001b[0m\u001b[1;33m,\u001b[0m\u001b[1;34m'1996'\u001b[0m\u001b[1;33m,\u001b[0m\u001b[1;34m'1997'\u001b[0m\u001b[1;33m,\u001b[0m\u001b[1;34m'1998'\u001b[0m\u001b[1;33m,\u001b[0m\u001b[1;34m'1999(a)'\u001b[0m\u001b[1;33m,\u001b[0m\u001b[1;34m'2000'\u001b[0m\u001b[1;33m,\u001b[0m\u001b[1;34m'2001'\u001b[0m\u001b[1;33m,\u001b[0m\u001b[1;34m'2002'\u001b[0m\u001b[1;33m,\u001b[0m\u001b[1;34m'2003'\u001b[0m\u001b[1;33m,\u001b[0m\u001b[1;34m'2004'\u001b[0m\u001b[1;33m,\u001b[0m\u001b[1;34m'2005'\u001b[0m\u001b[1;33m,\u001b[0m\u001b[1;34m'2006'\u001b[0m\u001b[1;33m,\u001b[0m\u001b[1;34m'2007(b)'\u001b[0m\u001b[1;33m,\u001b[0m\u001b[1;34m'2008(b)'\u001b[0m\u001b[1;33m,\u001b[0m\u001b[1;34m'2009(b)(c)(d)'\u001b[0m\u001b[1;33m,\u001b[0m\u001b[1;34m'2010(b)(e)'\u001b[0m\u001b[1;33m,\u001b[0m\u001b[1;34m'2011'\u001b[0m\u001b[1;33m,\u001b[0m\u001b[1;34m'2012'\u001b[0m\u001b[1;33m,\u001b[0m\u001b[1;34m'2013'\u001b[0m\u001b[1;33m,\u001b[0m\u001b[1;34m'2014'\u001b[0m\u001b[1;33m,\u001b[0m\u001b[1;34m'2015'\u001b[0m\u001b[1;33m,\u001b[0m\u001b[1;34m'2016'\u001b[0m\u001b[1;33m,\u001b[0m\u001b[1;34m'2017'\u001b[0m\u001b[1;33m,\u001b[0m\u001b[1;34m'2018(f)'\u001b[0m\u001b[1;33m]\u001b[0m\u001b[1;33m)\u001b[0m\u001b[1;33m.\u001b[0m\u001b[0mdropna\u001b[0m\u001b[1;33m(\u001b[0m\u001b[1;33m)\u001b[0m\u001b[1;33m\u001b[0m\u001b[1;33m\u001b[0m\u001b[0m\n\u001b[0m",
      "\u001b[1;32mC:\\ProgramData\\Anaconda3\\lib\\site-packages\\pandas\\core\\frame.py\u001b[0m in \u001b[0;36mdrop\u001b[1;34m(self, labels, axis, index, columns, level, inplace, errors)\u001b[0m\n\u001b[0;32m   4306\u001b[0m                 \u001b[0mweight\u001b[0m  \u001b[1;36m1.0\u001b[0m     \u001b[1;36m0.8\u001b[0m\u001b[1;33m\u001b[0m\u001b[1;33m\u001b[0m\u001b[0m\n\u001b[0;32m   4307\u001b[0m         \"\"\"\n\u001b[1;32m-> 4308\u001b[1;33m         return super().drop(\n\u001b[0m\u001b[0;32m   4309\u001b[0m             \u001b[0mlabels\u001b[0m\u001b[1;33m=\u001b[0m\u001b[0mlabels\u001b[0m\u001b[1;33m,\u001b[0m\u001b[1;33m\u001b[0m\u001b[1;33m\u001b[0m\u001b[0m\n\u001b[0;32m   4310\u001b[0m             \u001b[0maxis\u001b[0m\u001b[1;33m=\u001b[0m\u001b[0maxis\u001b[0m\u001b[1;33m,\u001b[0m\u001b[1;33m\u001b[0m\u001b[1;33m\u001b[0m\u001b[0m\n",
      "\u001b[1;32mC:\\ProgramData\\Anaconda3\\lib\\site-packages\\pandas\\core\\generic.py\u001b[0m in \u001b[0;36mdrop\u001b[1;34m(self, labels, axis, index, columns, level, inplace, errors)\u001b[0m\n\u001b[0;32m   4151\u001b[0m         \u001b[1;32mfor\u001b[0m \u001b[0maxis\u001b[0m\u001b[1;33m,\u001b[0m \u001b[0mlabels\u001b[0m \u001b[1;32min\u001b[0m \u001b[0maxes\u001b[0m\u001b[1;33m.\u001b[0m\u001b[0mitems\u001b[0m\u001b[1;33m(\u001b[0m\u001b[1;33m)\u001b[0m\u001b[1;33m:\u001b[0m\u001b[1;33m\u001b[0m\u001b[1;33m\u001b[0m\u001b[0m\n\u001b[0;32m   4152\u001b[0m             \u001b[1;32mif\u001b[0m \u001b[0mlabels\u001b[0m \u001b[1;32mis\u001b[0m \u001b[1;32mnot\u001b[0m \u001b[1;32mNone\u001b[0m\u001b[1;33m:\u001b[0m\u001b[1;33m\u001b[0m\u001b[1;33m\u001b[0m\u001b[0m\n\u001b[1;32m-> 4153\u001b[1;33m                 \u001b[0mobj\u001b[0m \u001b[1;33m=\u001b[0m \u001b[0mobj\u001b[0m\u001b[1;33m.\u001b[0m\u001b[0m_drop_axis\u001b[0m\u001b[1;33m(\u001b[0m\u001b[0mlabels\u001b[0m\u001b[1;33m,\u001b[0m \u001b[0maxis\u001b[0m\u001b[1;33m,\u001b[0m \u001b[0mlevel\u001b[0m\u001b[1;33m=\u001b[0m\u001b[0mlevel\u001b[0m\u001b[1;33m,\u001b[0m \u001b[0merrors\u001b[0m\u001b[1;33m=\u001b[0m\u001b[0merrors\u001b[0m\u001b[1;33m)\u001b[0m\u001b[1;33m\u001b[0m\u001b[1;33m\u001b[0m\u001b[0m\n\u001b[0m\u001b[0;32m   4154\u001b[0m \u001b[1;33m\u001b[0m\u001b[0m\n\u001b[0;32m   4155\u001b[0m         \u001b[1;32mif\u001b[0m \u001b[0minplace\u001b[0m\u001b[1;33m:\u001b[0m\u001b[1;33m\u001b[0m\u001b[1;33m\u001b[0m\u001b[0m\n",
      "\u001b[1;32mC:\\ProgramData\\Anaconda3\\lib\\site-packages\\pandas\\core\\generic.py\u001b[0m in \u001b[0;36m_drop_axis\u001b[1;34m(self, labels, axis, level, errors)\u001b[0m\n\u001b[0;32m   4186\u001b[0m                 \u001b[0mnew_axis\u001b[0m \u001b[1;33m=\u001b[0m \u001b[0maxis\u001b[0m\u001b[1;33m.\u001b[0m\u001b[0mdrop\u001b[0m\u001b[1;33m(\u001b[0m\u001b[0mlabels\u001b[0m\u001b[1;33m,\u001b[0m \u001b[0mlevel\u001b[0m\u001b[1;33m=\u001b[0m\u001b[0mlevel\u001b[0m\u001b[1;33m,\u001b[0m \u001b[0merrors\u001b[0m\u001b[1;33m=\u001b[0m\u001b[0merrors\u001b[0m\u001b[1;33m)\u001b[0m\u001b[1;33m\u001b[0m\u001b[1;33m\u001b[0m\u001b[0m\n\u001b[0;32m   4187\u001b[0m             \u001b[1;32melse\u001b[0m\u001b[1;33m:\u001b[0m\u001b[1;33m\u001b[0m\u001b[1;33m\u001b[0m\u001b[0m\n\u001b[1;32m-> 4188\u001b[1;33m                 \u001b[0mnew_axis\u001b[0m \u001b[1;33m=\u001b[0m \u001b[0maxis\u001b[0m\u001b[1;33m.\u001b[0m\u001b[0mdrop\u001b[0m\u001b[1;33m(\u001b[0m\u001b[0mlabels\u001b[0m\u001b[1;33m,\u001b[0m \u001b[0merrors\u001b[0m\u001b[1;33m=\u001b[0m\u001b[0merrors\u001b[0m\u001b[1;33m)\u001b[0m\u001b[1;33m\u001b[0m\u001b[1;33m\u001b[0m\u001b[0m\n\u001b[0m\u001b[0;32m   4189\u001b[0m             \u001b[0mresult\u001b[0m \u001b[1;33m=\u001b[0m \u001b[0mself\u001b[0m\u001b[1;33m.\u001b[0m\u001b[0mreindex\u001b[0m\u001b[1;33m(\u001b[0m\u001b[1;33m**\u001b[0m\u001b[1;33m{\u001b[0m\u001b[0maxis_name\u001b[0m\u001b[1;33m:\u001b[0m \u001b[0mnew_axis\u001b[0m\u001b[1;33m}\u001b[0m\u001b[1;33m)\u001b[0m\u001b[1;33m\u001b[0m\u001b[1;33m\u001b[0m\u001b[0m\n\u001b[0;32m   4190\u001b[0m \u001b[1;33m\u001b[0m\u001b[0m\n",
      "\u001b[1;32mC:\\ProgramData\\Anaconda3\\lib\\site-packages\\pandas\\core\\indexes\\base.py\u001b[0m in \u001b[0;36mdrop\u001b[1;34m(self, labels, errors)\u001b[0m\n\u001b[0;32m   5589\u001b[0m         \u001b[1;32mif\u001b[0m \u001b[0mmask\u001b[0m\u001b[1;33m.\u001b[0m\u001b[0many\u001b[0m\u001b[1;33m(\u001b[0m\u001b[1;33m)\u001b[0m\u001b[1;33m:\u001b[0m\u001b[1;33m\u001b[0m\u001b[1;33m\u001b[0m\u001b[0m\n\u001b[0;32m   5590\u001b[0m             \u001b[1;32mif\u001b[0m \u001b[0merrors\u001b[0m \u001b[1;33m!=\u001b[0m \u001b[1;34m\"ignore\"\u001b[0m\u001b[1;33m:\u001b[0m\u001b[1;33m\u001b[0m\u001b[1;33m\u001b[0m\u001b[0m\n\u001b[1;32m-> 5591\u001b[1;33m                 \u001b[1;32mraise\u001b[0m \u001b[0mKeyError\u001b[0m\u001b[1;33m(\u001b[0m\u001b[1;34mf\"{labels[mask]} not found in axis\"\u001b[0m\u001b[1;33m)\u001b[0m\u001b[1;33m\u001b[0m\u001b[1;33m\u001b[0m\u001b[0m\n\u001b[0m\u001b[0;32m   5592\u001b[0m             \u001b[0mindexer\u001b[0m \u001b[1;33m=\u001b[0m \u001b[0mindexer\u001b[0m\u001b[1;33m[\u001b[0m\u001b[1;33m~\u001b[0m\u001b[0mmask\u001b[0m\u001b[1;33m]\u001b[0m\u001b[1;33m\u001b[0m\u001b[1;33m\u001b[0m\u001b[0m\n\u001b[0;32m   5593\u001b[0m         \u001b[1;32mreturn\u001b[0m \u001b[0mself\u001b[0m\u001b[1;33m.\u001b[0m\u001b[0mdelete\u001b[0m\u001b[1;33m(\u001b[0m\u001b[0mindexer\u001b[0m\u001b[1;33m)\u001b[0m\u001b[1;33m\u001b[0m\u001b[1;33m\u001b[0m\u001b[0m\n",
      "\u001b[1;31mKeyError\u001b[0m: \"['1993' '1994' '1995' '1996' '1997' '1998' '1999(a)' '2000' '2001' '2002'\\n '2003' '2004' '2005' '2006' '2007(b)' '2008(b)' '2009(b)(c)(d)'\\n '2010(b)(e)' '2011' '2012' '2013' '2014' '2015' '2016' '2017' '2018(f)'] not found in axis\""
     ]
    }
   ],
   "source": [
    "#Dropping the columns with years that we're not comparing.\n",
    "\n",
    "Cleaned_crime_type = Crime_type.drop(columns=['1993','1994','1995','1996','1997','1998','1999(a)','2000','2001','2002','2003','2004','2005','2006','2007(b)','2008(b)','2009(b)(c)(d)','2010(b)(e)','2011','2012','2013','2014','2015','2016','2017','2018(f)']).dropna()"
   ]
  },
  {
   "cell_type": "code",
   "execution_count": 5,
   "id": "8731037e",
   "metadata": {},
   "outputs": [
    {
     "ename": "NameError",
     "evalue": "name 'Cleaned_crime_type' is not defined",
     "output_type": "error",
     "traceback": [
      "\u001b[1;31m---------------------------------------------------------------------------\u001b[0m",
      "\u001b[1;31mNameError\u001b[0m                                 Traceback (most recent call last)",
      "\u001b[1;32m<ipython-input-5-29b602b1034b>\u001b[0m in \u001b[0;36m<module>\u001b[1;34m\u001b[0m\n\u001b[0;32m      1\u001b[0m \u001b[1;31m#Printing the first Dataframe\u001b[0m\u001b[1;33m\u001b[0m\u001b[1;33m\u001b[0m\u001b[1;33m\u001b[0m\u001b[0m\n\u001b[1;32m----> 2\u001b[1;33m \u001b[0mCleaned_crime_type\u001b[0m\u001b[1;33m\u001b[0m\u001b[1;33m\u001b[0m\u001b[0m\n\u001b[0m",
      "\u001b[1;31mNameError\u001b[0m: name 'Cleaned_crime_type' is not defined"
     ]
    }
   ],
   "source": [
    "#Printing the first Dataframe\n",
    "Cleaned_crime_type"
   ]
  },
  {
   "cell_type": "code",
   "execution_count": 5,
   "id": "d761c4c1",
   "metadata": {},
   "outputs": [],
   "source": [
    "\n",
    "#Dropping null values from the crime location dataframe.\n",
    "\n",
    "Crime_loc = Crime_loc.dropna()"
   ]
  },
  {
   "cell_type": "code",
   "execution_count": 6,
   "id": "4e2e9ba2",
   "metadata": {},
   "outputs": [],
   "source": [
    "#Splitting the location dataframe into two frames each containing one of the years.\n",
    "\n",
    "Crime_2020 = Crime_loc.loc[(Crime_loc['Year']==2021.0)]\n",
    "\n",
    "Crime_2019 = Crime_loc.loc[(Crime_loc['Year']==2020.0)]"
   ]
  },
  {
   "cell_type": "code",
   "execution_count": 7,
   "id": "07b84cb5",
   "metadata": {},
   "outputs": [],
   "source": [
    "\n",
    "#Dropping unnecessary data.\n",
    "\n",
    "Crime_2019 = Crime_2019.drop(columns=[\"Year ending\",\"Location Group\",'Offence Division',\"Offence Subgroup\"])\n",
    "\n",
    "Crime_2020 = Crime_2020.drop(columns=[\"Year ending\",\"Location Group\",'Offence Division',\"Offence Subgroup\"])"
   ]
  },
  {
   "cell_type": "code",
   "execution_count": 8,
   "id": "58734474",
   "metadata": {},
   "outputs": [],
   "source": [
    "\n",
    "#Grouping the dataframe by Location and type of crime and creating a new dataframe from it summing the total amount of incidents\n",
    "#by type in each location type.\n",
    "\n",
    "Crime_2019_group = Crime_2019.groupby([\"Location Subdivision\",\"Offence Subdivision\"])\n",
    "\n",
    "Crime_2019_clean = Crime_2019_group[\"Incidents Recorded\"].sum().to_frame().reset_index()"
   ]
  },
  {
   "cell_type": "code",
   "execution_count": 9,
   "id": "7ab1f6d9",
   "metadata": {},
   "outputs": [],
   "source": [
    "#Grouping the dataframe by Location and type of crime and creating a new dataframe from it summing the total amount of incidents\n",
    "#by type in each location type.\n",
    "Crime_2020_group = Crime_2020.groupby([\"Location Subdivision\",\"Offence Subdivision\"])\n",
    "Crime_2020_clean = Crime_2020_group[\"Incidents Recorded\"].sum().to_frame().reset_index()\n"
   ]
  },
  {
   "cell_type": "code",
   "execution_count": 10,
   "id": "eae4433a",
   "metadata": {},
   "outputs": [],
   "source": [
    "Crime_2020_location=Crime_2020_clean['Location Subdivision'].value_counts().to_frame().rename(columns={Crime_2020_clean.columns[0]:'Count'})"
   ]
  },
  {
   "cell_type": "code",
   "execution_count": 11,
   "id": "71985d1f",
   "metadata": {},
   "outputs": [],
   "source": [
    "#Creating a csv with the new data.\n",
    "Crime_2020_location.to_csv('resources/Crime_2020_by_location.csv')"
   ]
  },
  {
   "cell_type": "code",
   "execution_count": 12,
   "id": "fdc25e1e",
   "metadata": {},
   "outputs": [
    {
     "ename": "NameError",
     "evalue": "name 'crime_2019_location' is not defined",
     "output_type": "error",
     "traceback": [
      "\u001b[1;31m---------------------------------------------------------------------------\u001b[0m",
      "\u001b[1;31mNameError\u001b[0m                                 Traceback (most recent call last)",
      "\u001b[1;32m<ipython-input-12-eb2123a23ce9>\u001b[0m in \u001b[0;36m<module>\u001b[1;34m\u001b[0m\n\u001b[1;32m----> 1\u001b[1;33m \u001b[0mnew_csv\u001b[0m\u001b[1;33m=\u001b[0m\u001b[0mCrime_2020_location\u001b[0m\u001b[1;33m.\u001b[0m\u001b[0mmerge\u001b[0m\u001b[1;33m(\u001b[0m\u001b[0mcrime_2019_location\u001b[0m\u001b[1;33m,\u001b[0m\u001b[0mon\u001b[0m\u001b[1;33m=\u001b[0m\u001b[0mCrime_2020_location\u001b[0m\u001b[1;33m.\u001b[0m\u001b[0mindex\u001b[0m\u001b[1;33m,\u001b[0m\u001b[0mhow\u001b[0m\u001b[1;33m=\u001b[0m\u001b[1;34m'outer'\u001b[0m\u001b[1;33m,\u001b[0m\u001b[0msuffixes\u001b[0m\u001b[1;33m=\u001b[0m\u001b[1;33m(\u001b[0m\u001b[1;34m'_2021'\u001b[0m\u001b[1;33m,\u001b[0m \u001b[1;34m'_2020'\u001b[0m\u001b[1;33m)\u001b[0m\u001b[1;33m)\u001b[0m\u001b[1;33m\u001b[0m\u001b[1;33m\u001b[0m\u001b[0m\n\u001b[0m\u001b[0;32m      2\u001b[0m \u001b[0mnew_csv\u001b[0m\u001b[1;33m=\u001b[0m\u001b[0mnew_csv\u001b[0m\u001b[1;33m.\u001b[0m\u001b[0mrename\u001b[0m\u001b[1;33m(\u001b[0m\u001b[0mcolumns\u001b[0m\u001b[1;33m=\u001b[0m\u001b[1;33m{\u001b[0m\u001b[1;34m'key_0'\u001b[0m\u001b[1;33m:\u001b[0m\u001b[1;34m'Location type'\u001b[0m\u001b[1;33m}\u001b[0m\u001b[1;33m)\u001b[0m\u001b[1;33m\u001b[0m\u001b[1;33m\u001b[0m\u001b[0m\n",
      "\u001b[1;31mNameError\u001b[0m: name 'crime_2019_location' is not defined"
     ]
    }
   ],
   "source": [
    "new_csv=Crime_2020_location.merge(crime_2019_location,on=Crime_2020_location.index,how='outer',suffixes=('_2021', '_2020'))\n",
    "new_csv=new_csv.rename(columns={'key_0':'Location type'})\n"
   ]
  },
  {
   "cell_type": "code",
   "execution_count": null,
   "id": "83f802f8",
   "metadata": {},
   "outputs": [],
   "source": [
    "fig=plt.figure(figsize=(20,16))\n",
    "y1=new_csv.Count_2021\n",
    "y2=new_csv.Count_2020\n",
    "x=new_csv['Location type']\n",
    "x_axis= np.arange(len(x))\n",
    "\n",
    "plt.bar(x_axis-0.2,y1,color='purple',alpha=0.8)\n",
    "# plt.xticks(new_csv['Location type'],rotation=45)\n",
    "plt.bar(x_axis+0.2,y2,color='yellow',alpha=0.8)\n",
    "plt.xticks(x_axis, x,rotation=45)"
   ]
  },
  {
   "cell_type": "code",
   "execution_count": 14,
   "id": "5c265258",
   "metadata": {},
   "outputs": [
    {
     "data": {
      "text/html": [
       "<div>\n",
       "<style scoped>\n",
       "    .dataframe tbody tr th:only-of-type {\n",
       "        vertical-align: middle;\n",
       "    }\n",
       "\n",
       "    .dataframe tbody tr th {\n",
       "        vertical-align: top;\n",
       "    }\n",
       "\n",
       "    .dataframe thead th {\n",
       "        text-align: right;\n",
       "    }\n",
       "</style>\n",
       "<table border=\"1\" class=\"dataframe\">\n",
       "  <thead>\n",
       "    <tr style=\"text-align: right;\">\n",
       "      <th></th>\n",
       "      <th>Count</th>\n",
       "    </tr>\n",
       "  </thead>\n",
       "  <tbody>\n",
       "    <tr>\n",
       "      <th>11 Dwelling - private</th>\n",
       "      <td>24</td>\n",
       "    </tr>\n",
       "    <tr>\n",
       "      <th>38 Recreational</th>\n",
       "      <td>23</td>\n",
       "    </tr>\n",
       "    <tr>\n",
       "      <th>28 Street/footpath</th>\n",
       "      <td>23</td>\n",
       "    </tr>\n",
       "    <tr>\n",
       "      <th>21 Education</th>\n",
       "      <td>22</td>\n",
       "    </tr>\n",
       "    <tr>\n",
       "      <th>27 Open Space</th>\n",
       "      <td>22</td>\n",
       "    </tr>\n",
       "    <tr>\n",
       "      <th>33 Retail</th>\n",
       "      <td>22</td>\n",
       "    </tr>\n",
       "    <tr>\n",
       "      <th>24 Public Transport</th>\n",
       "      <td>22</td>\n",
       "    </tr>\n",
       "    <tr>\n",
       "      <th>13 Grounds/surrounding land</th>\n",
       "      <td>22</td>\n",
       "    </tr>\n",
       "    <tr>\n",
       "      <th>39 Other location</th>\n",
       "      <td>22</td>\n",
       "    </tr>\n",
       "    <tr>\n",
       "      <th>31 Admin/professional</th>\n",
       "      <td>22</td>\n",
       "    </tr>\n",
       "    <tr>\n",
       "      <th>12 Dwelling  - non-private</th>\n",
       "      <td>21</td>\n",
       "    </tr>\n",
       "    <tr>\n",
       "      <th>26 Justice</th>\n",
       "      <td>21</td>\n",
       "    </tr>\n",
       "    <tr>\n",
       "      <th>25 Other Transport</th>\n",
       "      <td>21</td>\n",
       "    </tr>\n",
       "    <tr>\n",
       "      <th>22 Health</th>\n",
       "      <td>20</td>\n",
       "    </tr>\n",
       "    <tr>\n",
       "      <th>35 Warehousing/storage</th>\n",
       "      <td>20</td>\n",
       "    </tr>\n",
       "    <tr>\n",
       "      <th>36 Manufacturing</th>\n",
       "      <td>20</td>\n",
       "    </tr>\n",
       "    <tr>\n",
       "      <th>32 Financial</th>\n",
       "      <td>19</td>\n",
       "    </tr>\n",
       "    <tr>\n",
       "      <th>29 Other community location</th>\n",
       "      <td>19</td>\n",
       "    </tr>\n",
       "    <tr>\n",
       "      <th>37 Agricultural</th>\n",
       "      <td>19</td>\n",
       "    </tr>\n",
       "    <tr>\n",
       "      <th>23 Religious</th>\n",
       "      <td>16</td>\n",
       "    </tr>\n",
       "    <tr>\n",
       "      <th>34 Wholesale</th>\n",
       "      <td>12</td>\n",
       "    </tr>\n",
       "  </tbody>\n",
       "</table>\n",
       "</div>"
      ],
      "text/plain": [
       "                             Count\n",
       "11 Dwelling - private           24\n",
       "38 Recreational                 23\n",
       "28 Street/footpath              23\n",
       "21 Education                    22\n",
       "27 Open Space                   22\n",
       "33 Retail                       22\n",
       "24 Public Transport             22\n",
       "13 Grounds/surrounding land     22\n",
       "39 Other location               22\n",
       "31 Admin/professional           22\n",
       "12 Dwelling  - non-private      21\n",
       "26 Justice                      21\n",
       "25 Other Transport              21\n",
       "22 Health                       20\n",
       "35 Warehousing/storage          20\n",
       "36 Manufacturing                20\n",
       "32 Financial                    19\n",
       "29 Other community location     19\n",
       "37 Agricultural                 19\n",
       "23 Religious                    16\n",
       "34 Wholesale                    12"
      ]
     },
     "execution_count": 14,
     "metadata": {},
     "output_type": "execute_result"
    }
   ],
   "source": []
  },
  {
   "cell_type": "code",
   "execution_count": null,
   "id": "abb3f907",
   "metadata": {},
   "outputs": [],
   "source": []
  },
  {
   "cell_type": "code",
   "execution_count": null,
   "id": "b6bb8a11",
   "metadata": {},
   "outputs": [],
   "source": []
  },
  {
   "cell_type": "code",
   "execution_count": null,
   "id": "e2cc7985",
   "metadata": {},
   "outputs": [],
   "source": []
  }
 ],
 "metadata": {
  "kernelspec": {
   "display_name": "Python 3",
   "language": "python",
   "name": "python3"
  },
  "language_info": {
   "codemirror_mode": {
    "name": "ipython",
    "version": 3
   },
   "file_extension": ".py",
   "mimetype": "text/x-python",
   "name": "python",
   "nbconvert_exporter": "python",
   "pygments_lexer": "ipython3",
   "version": "3.8.8"
  }
 },
 "nbformat": 4,
 "nbformat_minor": 5
}
